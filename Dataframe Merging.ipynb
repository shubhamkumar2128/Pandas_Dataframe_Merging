{
 "cells": [
  {
   "cell_type": "code",
   "execution_count": 34,
   "metadata": {},
   "outputs": [
    {
     "name": "stdout",
     "output_type": "stream",
     "text": [
      "        city  temprature\n",
      "0      Delhi          28\n",
      "1         UP          23\n",
      "2         MP          27\n",
      "3    Kolkata          29\n",
      "4  Tamilnadu          26\n"
     ]
    }
   ],
   "source": [
    "import pandas as pd\n",
    "\n",
    "df_temp=pd.DataFrame({\n",
    "    \"city\":[\"Delhi\",\"UP\",\"MP\",\"Kolkata\",\"Tamilnadu\"],\n",
    "    \"temprature\":[28,23,27,29,26]\n",
    "})\n",
    "print(df_temp)"
   ]
  },
  {
   "cell_type": "code",
   "execution_count": 36,
   "metadata": {},
   "outputs": [
    {
     "name": "stdout",
     "output_type": "stream",
     "text": [
      "      city  humidity\n",
      "0    Delhi        45\n",
      "1       UP        50\n",
      "2       MP        54\n",
      "3  Kolkata        34\n"
     ]
    }
   ],
   "source": [
    "df_hum=pd.DataFrame({\n",
    "    \"city\":[\"Delhi\",\"UP\",\"MP\",\"Kolkata\"],\n",
    "    \"humidity\":[45,50,54,34]\n",
    "})\n",
    "print(df_hum)"
   ]
  },
  {
   "cell_type": "code",
   "execution_count": 68,
   "metadata": {},
   "outputs": [
    {
     "name": "stdout",
     "output_type": "stream",
     "text": [
      "        city  temprature  humidity     _merge\n",
      "0      Delhi          28      45.0       both\n",
      "1         UP          23      50.0       both\n",
      "2         MP          27      54.0       both\n",
      "3    Kolkata          29      34.0       both\n",
      "4  Tamilnadu          26       NaN  left_only\n"
     ]
    }
   ],
   "source": [
    "#Merge two dataframe(outer join)\n",
    "merge=pd.merge(df_temp,df_hum,how=\"outer\",indicator=True,on=\"city\")\n",
    "print(merge)"
   ]
  },
  {
   "cell_type": "code",
   "execution_count": 69,
   "metadata": {},
   "outputs": [
    {
     "name": "stdout",
     "output_type": "stream",
     "text": [
      "      city  temprature  humidity _merge\n",
      "0    Delhi          28        45   both\n",
      "1       UP          23        50   both\n",
      "2       MP          27        54   both\n",
      "3  Kolkata          29        34   both\n"
     ]
    }
   ],
   "source": [
    "#Merge two dataframe(left join)\n",
    "merge=pd.merge(df_temp,df_hum,how=\"right\",indicator=True,on=\"city\")\n",
    "print(merge)"
   ]
  },
  {
   "cell_type": "code",
   "execution_count": 70,
   "metadata": {},
   "outputs": [
    {
     "name": "stdout",
     "output_type": "stream",
     "text": [
      "      city  temprature  humidity _merge\n",
      "0    Delhi          28        45   both\n",
      "1       UP          23        50   both\n",
      "2       MP          27        54   both\n",
      "3  Kolkata          29        34   both\n"
     ]
    }
   ],
   "source": [
    "#(intersection join)\n",
    "merge=pd.merge(df_temp,df_hum,indicator=True,on=\"city\")\n",
    "print(merge)"
   ]
  },
  {
   "cell_type": "code",
   "execution_count": 71,
   "metadata": {},
   "outputs": [
    {
     "name": "stdout",
     "output_type": "stream",
     "text": [
      "        city  temprature  humidity     _merge\n",
      "0      Delhi          28      45.0       both\n",
      "1         UP          23      50.0       both\n",
      "2         MP          27      54.0       both\n",
      "3    Kolkata          29      34.0       both\n",
      "4  Tamilnadu          26       NaN  left_only\n"
     ]
    }
   ],
   "source": [
    "#(left join)\n",
    "merge=pd.merge(df_temp,df_hum,how=\"left\",indicator=True)\n",
    "print(merge)"
   ]
  },
  {
   "cell_type": "code",
   "execution_count": 62,
   "metadata": {},
   "outputs": [
    {
     "name": "stdout",
     "output_type": "stream",
     "text": [
      "      city  humidity  temprature\n",
      "0    Delhi        45          28\n",
      "1       UP        43          23\n",
      "2       MP        55          27\n",
      "3  Kolkata        34          26\n"
     ]
    }
   ],
   "source": [
    "df1=pd.DataFrame({\n",
    "    \"city\":[\"Delhi\",\"UP\",\"MP\",\"Kolkata\"],\n",
    "    \"humidity\":[45,43,55,34],\n",
    "    \"temprature\":[28,23,27,26]\n",
    "})\n",
    "print(df1)"
   ]
  },
  {
   "cell_type": "code",
   "execution_count": 63,
   "metadata": {},
   "outputs": [
    {
     "name": "stdout",
     "output_type": "stream",
     "text": [
      "    city  temprature  humidity\n",
      "0  Delhi          28        45\n",
      "1     UP          23        43\n",
      "2     MP          27        55\n"
     ]
    }
   ],
   "source": [
    "df2=pd.DataFrame({\n",
    "    \"city\":[\"Delhi\",\"UP\",\"MP\"],\n",
    "    \"temprature\":[28,23,27],\n",
    "    \"humidity\":[45,43,55]\n",
    "})\n",
    "print(df2)"
   ]
  },
  {
   "cell_type": "code",
   "execution_count": 77,
   "metadata": {},
   "outputs": [
    {
     "name": "stdout",
     "output_type": "stream",
     "text": [
      "    city  humidity_x  temprature_x  temprature_y  humidity_y\n",
      "0  Delhi          45            28            28          45\n",
      "1     UP          43            23            23          43\n",
      "2     MP          55            27            27          55\n"
     ]
    }
   ],
   "source": [
    "#when two dataframe has same column name\n",
    "m2=pd.merge(df1,df2,on=\"city\")\n",
    "print(m2)"
   ]
  },
  {
   "cell_type": "code",
   "execution_count": 79,
   "metadata": {},
   "outputs": [
    {
     "name": "stdout",
     "output_type": "stream",
     "text": [
      "    city  humidity_left  temprature_left  temprature_right  humidity_right\n",
      "0  Delhi             45               28                28              45\n",
      "1     UP             43               23                23              43\n",
      "2     MP             55               27                27              55\n"
     ]
    }
   ],
   "source": [
    "#Explicit suffix\n",
    "m2=pd.merge(df1,df2,on=\"city\",suffixes=(\"_left\",\"_right\"))\n",
    "print(m2)"
   ]
  }
 ],
 "metadata": {
  "kernelspec": {
   "display_name": "Python 3",
   "language": "python",
   "name": "python3"
  },
  "language_info": {
   "codemirror_mode": {
    "name": "ipython",
    "version": 3
   },
   "file_extension": ".py",
   "mimetype": "text/x-python",
   "name": "python",
   "nbconvert_exporter": "python",
   "pygments_lexer": "ipython3",
   "version": "3.7.4"
  }
 },
 "nbformat": 4,
 "nbformat_minor": 2
}
